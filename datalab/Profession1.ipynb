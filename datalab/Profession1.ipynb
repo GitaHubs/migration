{
 "cells": [
  {
   "cell_type": "markdown",
   "metadata": {},
   "source": [
    "### Profession Generator"
   ]
  },
  {
   "cell_type": "markdown",
   "metadata": {},
   "source": [
    "### Assignment:"
   ]
  },
  {
   "cell_type": "markdown",
   "metadata": {},
   "source": [
    "1. Create a complete profession generator"
   ]
  },
  {
   "cell_type": "markdown",
   "metadata": {},
   "source": [
    "------"
   ]
  },
  {
   "cell_type": "code",
   "execution_count": 16,
   "metadata": {},
   "outputs": [],
   "source": [
    "import json as json\n",
    "import random as random\n",
    "import pandas as pd\n",
    "import matplotlib.pyplot as plt\n",
    "import seaborn as sns\n",
    "sns.set()"
   ]
  },
  {
   "cell_type": "code",
   "execution_count": 17,
   "metadata": {},
   "outputs": [],
   "source": [
    "df=pd.read_csv('Profession_Generator.csv', na_values='')"
   ]
  },
  {
   "cell_type": "code",
   "execution_count": 18,
   "metadata": {},
   "outputs": [
    {
     "data": {
      "text/html": [
       "<div>\n",
       "<style scoped>\n",
       "    .dataframe tbody tr th:only-of-type {\n",
       "        vertical-align: middle;\n",
       "    }\n",
       "\n",
       "    .dataframe tbody tr th {\n",
       "        vertical-align: top;\n",
       "    }\n",
       "\n",
       "    .dataframe thead th {\n",
       "        text-align: right;\n",
       "    }\n",
       "</style>\n",
       "<table border=\"1\" class=\"dataframe\">\n",
       "  <thead>\n",
       "    <tr style=\"text-align: right;\">\n",
       "      <th></th>\n",
       "      <th>Business</th>\n",
       "      <th>Industrial and manufacturing</th>\n",
       "      <th>Law Enforcement and Armed Forces</th>\n",
       "      <th>Service</th>\n",
       "      <th>Agriculture</th>\n",
       "      <th>Hotel and Tourism</th>\n",
       "      <th>dance occupation</th>\n",
       "      <th>film and television occupation</th>\n",
       "      <th>theatre personnel</th>\n",
       "      <th>writing occupation</th>\n",
       "      <th>Health care and Medicine</th>\n",
       "      <th>computer/IT occupations</th>\n",
       "      <th>scientific occupations</th>\n",
       "      <th>engineering and Construction</th>\n",
       "    </tr>\n",
       "  </thead>\n",
       "  <tbody>\n",
       "    <tr>\n",
       "      <th>0</th>\n",
       "      <td>Adverstising specialist</td>\n",
       "      <td>Mechanics</td>\n",
       "      <td>Armed Police Force</td>\n",
       "      <td>Accountant</td>\n",
       "      <td>Animal trainers</td>\n",
       "      <td>Bartender</td>\n",
       "      <td>Ballet dancer</td>\n",
       "      <td>Actor</td>\n",
       "      <td>Producer</td>\n",
       "      <td>Author</td>\n",
       "      <td>Anesthesiologist</td>\n",
       "      <td>Application Analyst</td>\n",
       "      <td>Statistician</td>\n",
       "      <td>Electronic Engineer</td>\n",
       "    </tr>\n",
       "    <tr>\n",
       "      <th>1</th>\n",
       "      <td>Baker</td>\n",
       "      <td>Miller</td>\n",
       "      <td>Traffic Police</td>\n",
       "      <td>Chartered Account</td>\n",
       "      <td>Farmer</td>\n",
       "      <td>Chef</td>\n",
       "      <td>Backup dancer</td>\n",
       "      <td>Animator</td>\n",
       "      <td>Director</td>\n",
       "      <td>Blogger</td>\n",
       "      <td>Cardiovascular Surgeon</td>\n",
       "      <td>Computer Operator</td>\n",
       "      <td>Foreignsic Scientist</td>\n",
       "      <td>IT Engineer</td>\n",
       "    </tr>\n",
       "    <tr>\n",
       "      <th>2</th>\n",
       "      <td>Bank Worker</td>\n",
       "      <td>Mold Maker</td>\n",
       "      <td>Police</td>\n",
       "      <td>Care Taker</td>\n",
       "      <td>Dairy farmer</td>\n",
       "      <td>Cook</td>\n",
       "      <td>Caller</td>\n",
       "      <td>Cartoonist</td>\n",
       "      <td>Playright</td>\n",
       "      <td>Book Coach</td>\n",
       "      <td>Dermatologist</td>\n",
       "      <td>Computer Technician</td>\n",
       "      <td>Biologist</td>\n",
       "      <td>Military Engineer</td>\n",
       "    </tr>\n",
       "    <tr>\n",
       "      <th>3</th>\n",
       "      <td>Body artist</td>\n",
       "      <td>Plumber</td>\n",
       "      <td>Army</td>\n",
       "      <td>Driver</td>\n",
       "      <td>Fruit and Vegetable seller</td>\n",
       "      <td>Waiter</td>\n",
       "      <td>Choreographer</td>\n",
       "      <td>Tweener</td>\n",
       "      <td>Scenic Designer</td>\n",
       "      <td>Commissioning Editor</td>\n",
       "      <td>Neonatologist</td>\n",
       "      <td>Computer Scientist</td>\n",
       "      <td>Botanist</td>\n",
       "      <td>Civil Engineer</td>\n",
       "    </tr>\n",
       "    <tr>\n",
       "      <th>4</th>\n",
       "      <td>Event Manager</td>\n",
       "      <td>Welder</td>\n",
       "      <td>Lawyer</td>\n",
       "      <td>Managing Director</td>\n",
       "      <td>Nursery Worker</td>\n",
       "      <td>Tourist Guide</td>\n",
       "      <td>Dancer</td>\n",
       "      <td>Casting Director</td>\n",
       "      <td>Lighting Designer</td>\n",
       "      <td>Copy Editor</td>\n",
       "      <td>Physician</td>\n",
       "      <td>Data Analyst</td>\n",
       "      <td>Food Technologist</td>\n",
       "      <td>Plumber</td>\n",
       "    </tr>\n",
       "  </tbody>\n",
       "</table>\n",
       "</div>"
      ],
      "text/plain": [
       "                  Business Industrial and manufacturing  \\\n",
       "0  Adverstising specialist                    Mechanics   \n",
       "1                    Baker                       Miller   \n",
       "2              Bank Worker                   Mold Maker   \n",
       "3              Body artist                      Plumber   \n",
       "4            Event Manager                       Welder   \n",
       "\n",
       "  Law Enforcement and Armed Forces            Service  \\\n",
       "0               Armed Police Force         Accountant   \n",
       "1                   Traffic Police  Chartered Account   \n",
       "2                           Police         Care Taker   \n",
       "3                             Army             Driver   \n",
       "4                           Lawyer  Managing Director   \n",
       "\n",
       "                  Agriculture Hotel and Tourism dance occupation  \\\n",
       "0             Animal trainers         Bartender    Ballet dancer   \n",
       "1                      Farmer              Chef    Backup dancer   \n",
       "2                Dairy farmer              Cook           Caller   \n",
       "3  Fruit and Vegetable seller            Waiter    Choreographer   \n",
       "4              Nursery Worker     Tourist Guide           Dancer   \n",
       "\n",
       "  film and television occupation  theatre personnel    writing occupation  \\\n",
       "0                          Actor           Producer                Author   \n",
       "1                       Animator           Director               Blogger   \n",
       "2                     Cartoonist          Playright            Book Coach   \n",
       "3                        Tweener    Scenic Designer  Commissioning Editor   \n",
       "4               Casting Director  Lighting Designer           Copy Editor   \n",
       "\n",
       "      Health care and Medicine  computer/IT occupations  \\\n",
       "0             Anesthesiologist      Application Analyst   \n",
       "1       Cardiovascular Surgeon        Computer Operator   \n",
       "2                Dermatologist      Computer Technician   \n",
       "3                Neonatologist       Computer Scientist   \n",
       "4                    Physician             Data Analyst   \n",
       "\n",
       "   scientific occupations engineering and Construction  \n",
       "0            Statistician          Electronic Engineer  \n",
       "1    Foreignsic Scientist                  IT Engineer  \n",
       "2               Biologist            Military Engineer  \n",
       "3                Botanist               Civil Engineer  \n",
       "4       Food Technologist                      Plumber  "
      ]
     },
     "execution_count": 18,
     "metadata": {},
     "output_type": "execute_result"
    }
   ],
   "source": [
    "df.head()"
   ]
  },
  {
   "cell_type": "code",
   "execution_count": 19,
   "metadata": {},
   "outputs": [],
   "source": [
    "df=df.fillna('')"
   ]
  },
  {
   "cell_type": "code",
   "execution_count": 20,
   "metadata": {},
   "outputs": [
    {
     "data": {
      "text/html": [
       "<div>\n",
       "<style scoped>\n",
       "    .dataframe tbody tr th:only-of-type {\n",
       "        vertical-align: middle;\n",
       "    }\n",
       "\n",
       "    .dataframe tbody tr th {\n",
       "        vertical-align: top;\n",
       "    }\n",
       "\n",
       "    .dataframe thead th {\n",
       "        text-align: right;\n",
       "    }\n",
       "</style>\n",
       "<table border=\"1\" class=\"dataframe\">\n",
       "  <thead>\n",
       "    <tr style=\"text-align: right;\">\n",
       "      <th></th>\n",
       "      <th>Business</th>\n",
       "      <th>Industrial and manufacturing</th>\n",
       "      <th>Law Enforcement and Armed Forces</th>\n",
       "      <th>Service</th>\n",
       "      <th>Agriculture</th>\n",
       "      <th>Hotel and Tourism</th>\n",
       "      <th>dance occupation</th>\n",
       "      <th>film and television occupation</th>\n",
       "      <th>theatre personnel</th>\n",
       "      <th>writing occupation</th>\n",
       "      <th>Health care and Medicine</th>\n",
       "      <th>computer/IT occupations</th>\n",
       "      <th>scientific occupations</th>\n",
       "      <th>engineering and Construction</th>\n",
       "    </tr>\n",
       "  </thead>\n",
       "  <tbody>\n",
       "    <tr>\n",
       "      <th>17</th>\n",
       "      <td></td>\n",
       "      <td></td>\n",
       "      <td></td>\n",
       "      <td>Finance broker</td>\n",
       "      <td></td>\n",
       "      <td></td>\n",
       "      <td></td>\n",
       "      <td>News Caster</td>\n",
       "      <td></td>\n",
       "      <td></td>\n",
       "      <td></td>\n",
       "      <td></td>\n",
       "      <td></td>\n",
       "      <td></td>\n",
       "    </tr>\n",
       "    <tr>\n",
       "      <th>18</th>\n",
       "      <td></td>\n",
       "      <td></td>\n",
       "      <td></td>\n",
       "      <td>Fire fighter</td>\n",
       "      <td></td>\n",
       "      <td></td>\n",
       "      <td></td>\n",
       "      <td>Anchor</td>\n",
       "      <td></td>\n",
       "      <td></td>\n",
       "      <td></td>\n",
       "      <td></td>\n",
       "      <td></td>\n",
       "      <td></td>\n",
       "    </tr>\n",
       "    <tr>\n",
       "      <th>19</th>\n",
       "      <td></td>\n",
       "      <td></td>\n",
       "      <td></td>\n",
       "      <td>Casier</td>\n",
       "      <td></td>\n",
       "      <td></td>\n",
       "      <td></td>\n",
       "      <td>Video Editor</td>\n",
       "      <td></td>\n",
       "      <td></td>\n",
       "      <td></td>\n",
       "      <td></td>\n",
       "      <td></td>\n",
       "      <td></td>\n",
       "    </tr>\n",
       "    <tr>\n",
       "      <th>20</th>\n",
       "      <td></td>\n",
       "      <td></td>\n",
       "      <td></td>\n",
       "      <td></td>\n",
       "      <td></td>\n",
       "      <td></td>\n",
       "      <td></td>\n",
       "      <td>Voice Actor</td>\n",
       "      <td></td>\n",
       "      <td></td>\n",
       "      <td></td>\n",
       "      <td></td>\n",
       "      <td></td>\n",
       "      <td></td>\n",
       "    </tr>\n",
       "    <tr>\n",
       "      <th>21</th>\n",
       "      <td></td>\n",
       "      <td></td>\n",
       "      <td></td>\n",
       "      <td></td>\n",
       "      <td></td>\n",
       "      <td></td>\n",
       "      <td></td>\n",
       "      <td>Weatherman/women</td>\n",
       "      <td></td>\n",
       "      <td></td>\n",
       "      <td></td>\n",
       "      <td></td>\n",
       "      <td></td>\n",
       "      <td></td>\n",
       "    </tr>\n",
       "  </tbody>\n",
       "</table>\n",
       "</div>"
      ],
      "text/plain": [
       "   Business Industrial and manufacturing Law Enforcement and Armed Forces  \\\n",
       "17                                                                          \n",
       "18                                                                          \n",
       "19                                                                          \n",
       "20                                                                          \n",
       "21                                                                          \n",
       "\n",
       "           Service Agriculture Hotel and Tourism dance occupation  \\\n",
       "17  Finance broker                                                  \n",
       "18    Fire fighter                                                  \n",
       "19          Casier                                                  \n",
       "20                                                                  \n",
       "21                                                                  \n",
       "\n",
       "   film and television occupation theatre personnel writing occupation  \\\n",
       "17                    News Caster                                        \n",
       "18                         Anchor                                        \n",
       "19                   Video Editor                                        \n",
       "20                    Voice Actor                                        \n",
       "21               Weatherman/women                                        \n",
       "\n",
       "       Health care and Medicine  computer/IT occupations  \\\n",
       "17                                                         \n",
       "18                                                         \n",
       "19                                                         \n",
       "20                                                         \n",
       "21                                                         \n",
       "\n",
       "    scientific occupations engineering and Construction  \n",
       "17                                                       \n",
       "18                                                       \n",
       "19                                                       \n",
       "20                                                       \n",
       "21                                                       "
      ]
     },
     "execution_count": 20,
     "metadata": {},
     "output_type": "execute_result"
    }
   ],
   "source": [
    "df.tail()"
   ]
  },
  {
   "cell_type": "code",
   "execution_count": 21,
   "metadata": {},
   "outputs": [],
   "source": [
    "register_feature=list(df.columns)\n",
    "register={}\n",
    "#print(register_feature)\n",
    "for row in df.T.iteritems():\n",
    "    #print(row)\n",
    "    dict=[]\n",
    "#     a=enumerate(register_feature)\n",
    "#     for i in a:\n",
    "#         print(i)\n",
    "        \n",
    "    for value,feature in enumerate(register_feature):\n",
    "        #print(feature)\n",
    "        dict.append(row[1][value])\n",
    "        #print(dict)\n",
    "    register.update({feature:dict})"
   ]
  },
  {
   "cell_type": "code",
   "execution_count": 22,
   "metadata": {},
   "outputs": [],
   "source": [
    "register_feature=list(df.columns)\n",
    "register={}\n",
    "for row in register_feature:\n",
    "#     print(row)\n",
    "    new_list=[i for i in df[row] if (i!='')]\n",
    "    register.update({row:new_list})"
   ]
  },
  {
   "cell_type": "code",
   "execution_count": 23,
   "metadata": {},
   "outputs": [],
   "source": [
    "Prof=register"
   ]
  },
  {
   "cell_type": "code",
   "execution_count": 24,
   "metadata": {},
   "outputs": [
    {
     "name": "stdout",
     "output_type": "stream",
     "text": [
      "{'major': ' computer/IT occupations', 'branch': 'Software Engineer'}\n"
     ]
    }
   ],
   "source": [
    "all_professions = list(Prof.keys())\n",
    "major = random.choice(all_professions)\n",
    "branch = random.choice(Prof[major])\n",
    "profession = {\"major\": major, \"branch\":branch}\n",
    "print(profession)"
   ]
  },
  {
   "cell_type": "code",
   "execution_count": 26,
   "metadata": {},
   "outputs": [],
   "source": [
    "with open(\"data/Profession1.json\", 'w') as f:\n",
    "    json.dump(Prof,f)"
   ]
  },
  {
   "cell_type": "code",
   "execution_count": 27,
   "metadata": {},
   "outputs": [],
   "source": [
    "'''\n",
    " This function generates a random foreign address \n",
    "'''    \n",
    "def random_profession(data):\n",
    "    all_prof = list(data.keys())\n",
    "    major = random.choice(all_prof)\n",
    "    branch = random.choice(data[major])\n",
    "    prof = {\"major\": major, \"branch\":branch}\n",
    "    return prof"
   ]
  },
  {
   "cell_type": "code",
   "execution_count": 28,
   "metadata": {},
   "outputs": [],
   "source": [
    "with open(\"data/Profession1.json\",'r') as f:\n",
    "    new=json.load(f)"
   ]
  },
  {
   "cell_type": "code",
   "execution_count": 29,
   "metadata": {},
   "outputs": [
    {
     "data": {
      "text/plain": [
       "{'branch': 'Callboy', 'major': 'theatre personnel'}"
      ]
     },
     "execution_count": 29,
     "metadata": {},
     "output_type": "execute_result"
    }
   ],
   "source": [
    "random_profession(new)"
   ]
  },
  {
   "cell_type": "code",
   "execution_count": null,
   "metadata": {},
   "outputs": [],
   "source": []
  }
 ],
 "metadata": {
  "kernelspec": {
   "display_name": "Python 3",
   "language": "python",
   "name": "python3"
  },
  "language_info": {
   "codemirror_mode": {
    "name": "ipython",
    "version": 3
   },
   "file_extension": ".py",
   "mimetype": "text/x-python",
   "name": "python",
   "nbconvert_exporter": "python",
   "pygments_lexer": "ipython3",
   "version": "3.6.4"
  }
 },
 "nbformat": 4,
 "nbformat_minor": 2
}
